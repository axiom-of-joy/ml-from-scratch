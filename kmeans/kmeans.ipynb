{
 "cells": [
  {
   "cell_type": "markdown",
   "metadata": {},
   "source": [
    "# k-Means"
   ]
  },
  {
   "cell_type": "code",
   "execution_count": 1,
   "metadata": {},
   "outputs": [],
   "source": [
    "import numpy as np\n",
    "from sklearn.metrics.pairwise import euclidean_distances\n",
    "\n",
    "class KMeans:\n",
    "    def __init__(self, k=8, max_iterations=1000):\n",
    "        self.k = k\n",
    "        self.max_iterations = max_iterations\n",
    "        \n",
    "    def fit(self, X):\n",
    "        N, self.p = X.shape\n",
    "        if N < self.k:\n",
    "            raise ValueError\n",
    "        \n",
    "        # Initialize centroids.\n",
    "        perm = np.random.choice(N, self.k, replace=False)\n",
    "        self.centroids = X[perm,:]\n",
    "        self.tmp = np.zeros(self.centroids.shape)\n",
    "        self.count = np.zeros([self.k, 1], dtype=int)\n",
    "        \n",
    "        # Updates.\n",
    "        for _ in range(self.max_iterations):\n",
    "            dist = euclidean_distances(X, self.centroids)\n",
    "            labels = np.argmin(dist, axis=1)\n",
    "            for point, label in zip(X, labels):\n",
    "                self.tmp[label,:] += point\n",
    "                self.count[label] += 1\n",
    "            self.count[self.count == 0] = 1\n",
    "            self.centroids = self.tmp / self.count\n",
    "            self.tmp = np.zeros(self.centroids.shape)\n",
    "            self.count = np.zeros([self.k, 1], dtype=int)\n",
    "\n",
    "    def predict(self, X):\n",
    "        if X.shape[1] != self.p:\n",
    "            raise ValueError\n",
    "        dist = euclidean_distances(X, self.centroids)\n",
    "        labels = np.argmin(dist, axis=1)\n",
    "        return labels.squeeze()"
   ]
  },
  {
   "cell_type": "code",
   "execution_count": 2,
   "metadata": {},
   "outputs": [
    {
     "data": {
      "image/png": "[encoded data removed]",
      "text/plain": [
       "<Figure size 432x288 with 1 Axes>"
      ]
     },
     "metadata": {
      "needs_background": "light"
     },
     "output_type": "display_data"
    }
   ],
   "source": [
    "%matplotlib inline\n",
    "import matplotlib.pyplot as plt\n",
    "from sklearn.datasets import make_blobs\n",
    "\n",
    "# Create dataset\n",
    "X, _ = make_blobs(\n",
    "   n_samples=150, n_features=2,\n",
    "   centers=3, cluster_std=0.5,\n",
    "   shuffle=True, random_state=0\n",
    ")\n",
    "\n",
    "# Cluster.\n",
    "kmeans = KMeans(k=3)\n",
    "kmeans.fit(X)\n",
    "labels = kmeans.predict(X)\n",
    "\n",
    "# Plot.\n",
    "colors = ['red', 'green', 'blue']\n",
    "c = [colors[i] for i in labels]\n",
    "plt.scatter(\n",
    "    X[:, 0], X[:, 1],\n",
    "    c=c, marker='.')\n",
    "plt.show()"
   ]
  }
 ],
 "metadata": {
  "kernelspec": {
   "display_name": "Python 3",
   "language": "python",
   "name": "python3"
  },
  "language_info": {
   "codemirror_mode": {
    "name": "ipython",
    "version": 3
   },
   "file_extension": ".py",
   "mimetype": "text/x-python",
   "name": "python",
   "nbconvert_exporter": "python",
   "pygments_lexer": "ipython3",
   "version": "3.6.8"
  }
 },
 "nbformat": 4,
 "nbformat_minor": 2
}
