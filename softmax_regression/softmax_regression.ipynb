{
 "cells": [
  {
   "cell_type": "markdown",
   "metadata": {},
   "source": [
    "# Softmax Regression"
   ]
  },
  {
   "cell_type": "code",
   "execution_count": 1,
   "metadata": {},
   "outputs": [],
   "source": [
    "import numpy as np\n",
    "\n",
    "class SoftmaxRegression:\n",
    "    def __init__(self, learning_rate=0.1, epochs=1000):\n",
    "        self.epochs = epochs\n",
    "        self.learning_rate = learning_rate\n",
    "        \n",
    "    def fit(self, X, y):\n",
    "        N, self.p = X.shape\n",
    "        if y.shape[0] != N:\n",
    "            raise ValueError\n",
    "        self.k = int(np.max(y)) + 1\n",
    "        self.beta = np.random.rand(self.p + 1, self.k)\n",
    "        X = self._pad_ones(X)\n",
    "        X_ = np.expand_dims(X, axis=2)\n",
    "        X_ = np.transpose(X_, (1, 2, 0))\n",
    "\n",
    "        for _ in range(self.epochs):\n",
    "            y_hat = self._predict_probs(X)\n",
    "            y_hat[np.arange(N), y] -= 1.0\n",
    "            y_hat = np.expand_dims(y_hat, axis=2)\n",
    "            y_hat = np.swapaxes(y_hat, 0, 2)\n",
    "            grad = np.sum(X_ * y_hat, axis=2) / N\n",
    "            self.beta -= self.learning_rate * grad            \n",
    "\n",
    "    def _predict_probs(self, X):\n",
    "        tmp = np.exp(np.dot(X, self.beta))\n",
    "        return tmp / np.expand_dims(np.sum(tmp, axis=1), axis=1)\n",
    "        \n",
    "    def predict(self, X):\n",
    "        if X.shape[1] != self.p:\n",
    "            raise ValueError\n",
    "        X = self._pad_ones(X)\n",
    "        return np.argmax(self._predict_probs(X), axis=1)        \n",
    "        \n",
    "    def _pad_ones(self, X):\n",
    "        N = X.shape[0]\n",
    "        return np.concatenate([np.ones([N, 1]), X], axis=1)"
   ]
  },
  {
   "cell_type": "code",
   "execution_count": 2,
   "metadata": {},
   "outputs": [],
   "source": [
    "from sklearn.datasets import load_iris\n",
    "from sklearn.metrics import accuracy_score\n",
    "from sklearn.preprocessing import normalize\n",
    "from sklearn.model_selection import train_test_split"
   ]
  },
  {
   "cell_type": "code",
   "execution_count": 3,
   "metadata": {},
   "outputs": [],
   "source": [
    "X, y = load_iris(return_X_y=True)\n",
    "X = normalize(X)\n",
    "X_train, X_test, y_train, y_test = train_test_split(X, y, test_size=0.2)"
   ]
  },
  {
   "cell_type": "code",
   "execution_count": 4,
   "metadata": {},
   "outputs": [
    {
     "name": "stdout",
     "output_type": "stream",
     "text": [
      "accuracy: 0.966667\n"
     ]
    }
   ],
   "source": [
    "clf = SoftmaxRegression(epochs=10000, learning_rate=0.1)\n",
    "clf.fit(X_train, y_train)\n",
    "y_pred = clf.predict(X_test)\n",
    "accuracy = accuracy_score(y_test, y_pred)\n",
    "print(\"accuracy: {:f}\".format(accuracy))"
   ]
  }
 ],
 "metadata": {
  "kernelspec": {
   "display_name": "Python 3",
   "language": "python",
   "name": "python3"
  },
  "language_info": {
   "codemirror_mode": {
    "name": "ipython",
    "version": 3
   },
   "file_extension": ".py",
   "mimetype": "text/x-python",
   "name": "python",
   "nbconvert_exporter": "python",
   "pygments_lexer": "ipython3",
   "version": "3.6.8"
  }
 },
 "nbformat": 4,
 "nbformat_minor": 2
}
