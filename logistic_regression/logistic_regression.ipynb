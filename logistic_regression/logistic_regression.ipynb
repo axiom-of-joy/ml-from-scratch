{
 "cells": [
  {
   "cell_type": "markdown",
   "metadata": {
    "colab_type": "text",
    "id": "UupgT3foBEg3"
   },
   "source": [
    "# Logistic Regression"
   ]
  },
  {
   "cell_type": "code",
   "execution_count": 1,
   "metadata": {},
   "outputs": [],
   "source": [
    "import numpy as np\n",
    "\n",
    "class LogisticRegression:\n",
    "    def __init__(self, epochs=1000, learning_rate=0.01):\n",
    "        self.learning_rate = learning_rate\n",
    "        self.epochs = epochs\n",
    "        \n",
    "    def fit(self, X, y):\n",
    "        N, self.p = X.shape         \n",
    "        X = self._pad_ones(X)\n",
    "        if y.ndim == 1:\n",
    "            y = np.expand_dims(y, axis=1)\n",
    "\n",
    "        self.beta = np.random.rand(self.p + 1, 1)\n",
    "        for _ in range(self.epochs):\n",
    "            y_hat = self._predict_probs(X)\n",
    "            update = (self.learning_rate / N) * np.dot(X.T, y_hat - y)\n",
    "            self.beta -= update\n",
    "\n",
    "    def predict(self, X):\n",
    "        p = X.shape[1]\n",
    "        if p != self.p:\n",
    "            raise ValueError(\"Training features doesn't match test features.\")\n",
    "        X = self._pad_ones(X)\n",
    "        probs = self._predict_probs(X)\n",
    "        return np.round(probs).astype(int)\n",
    "\n",
    "    def predict_probs(self, X):\n",
    "        self._pad_ones(X)\n",
    "        return self._predict_probs(X)\n",
    "    \n",
    "    def _predict_probs(self, X):\n",
    "        return self._sigmoid(np.dot(X, self.beta))\n",
    "\n",
    "    def _sigmoid(self, X):\n",
    "        return 1 / (1 + np.exp(-X))\n",
    "    \n",
    "    def _pad_ones(self, X):\n",
    "        N = X.shape[0]\n",
    "        return np.concatenate([np.ones((N, 1)), X], axis=1)"
   ]
  },
  {
   "cell_type": "code",
   "execution_count": 2,
   "metadata": {
    "colab": {},
    "colab_type": "code",
    "id": "Suv71u4Z8Lcl"
   },
   "outputs": [],
   "source": [
    "from sklearn.datasets import load_iris\n",
    "from sklearn.metrics import f1_score, accuracy_score\n",
    "from sklearn.preprocessing import normalize\n",
    "from sklearn.model_selection import train_test_split"
   ]
  },
  {
   "cell_type": "code",
   "execution_count": 3,
   "metadata": {},
   "outputs": [],
   "source": [
    "X, y = load_iris(return_X_y=True)\n",
    "X = normalize(X)\n",
    "y = (y != 0).astype(int)\n",
    "X_train, X_test, y_train, y_test = train_test_split(X, y, test_size=0.2)"
   ]
  },
  {
   "cell_type": "code",
   "execution_count": 4,
   "metadata": {
    "colab": {
     "base_uri": "https://localhost:8080/",
     "height": 34
    },
    "colab_type": "code",
    "id": "jv5YMm_6cwsv",
    "outputId": "042453a5-71c8-4fbd-c233-75c7cbfb7336"
   },
   "outputs": [
    {
     "name": "stdout",
     "output_type": "stream",
     "text": [
      "f1_score: 1.000000\n",
      "accuracy: 1.000000\n"
     ]
    }
   ],
   "source": [
    "clf = LogisticRegression(epochs=1000, learning_rate=0.1)\n",
    "clf.fit(X_train, y_train)\n",
    "y_pred = clf.predict(X_test)\n",
    "f1 = f1_score(y_test, y_pred)\n",
    "accuracy = accuracy_score(y_test, y_pred)\n",
    "print(\"f1_score: {:f}\".format(f1))\n",
    "print(\"accuracy: {:f}\".format(accuracy))"
   ]
  }
 ],
 "metadata": {
  "colab": {
   "name": "Binary logistic regression.ipynb",
   "provenance": []
  },
  "kernelspec": {
   "display_name": "Python 3",
   "language": "python",
   "name": "python3"
  },
  "language_info": {
   "codemirror_mode": {
    "name": "ipython",
    "version": 3
   },
   "file_extension": ".py",
   "mimetype": "text/x-python",
   "name": "python",
   "nbconvert_exporter": "python",
   "pygments_lexer": "ipython3",
   "version": "3.6.8"
  }
 },
 "nbformat": 4,
 "nbformat_minor": 1
}
